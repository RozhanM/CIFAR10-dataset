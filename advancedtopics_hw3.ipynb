{
  "nbformat": 4,
  "nbformat_minor": 0,
  "metadata": {
    "colab": {
      "provenance": []
    },
    "kernelspec": {
      "name": "python3",
      "display_name": "Python 3"
    },
    "language_info": {
      "name": "python"
    }
  },
  "cells": [
    {
      "cell_type": "code",
      "execution_count": null,
      "metadata": {
        "id": "v_rIaq9YVMr5"
      },
      "outputs": [],
      "source": [
        "from tensorflow.keras.datasets import cifar10\n",
        "import numpy as np\n",
        "import math\n",
        "import tensorflow as tf"
      ]
    },
    {
      "cell_type": "code",
      "source": [
        "from google.colab import drive\n",
        "drive.mount('/content/drive')"
      ],
      "metadata": {
        "colab": {
          "base_uri": "https://localhost:8080/"
        },
        "id": "qjogJCLFf5Jv",
        "outputId": "f4f9ed36-72bf-4eee-da9d-ae312e7fca4b"
      },
      "execution_count": null,
      "outputs": [
        {
          "output_type": "stream",
          "name": "stdout",
          "text": [
            "Drive already mounted at /content/drive; to attempt to forcibly remount, call drive.mount(\"/content/drive\", force_remount=True).\n"
          ]
        }
      ]
    },
    {
      "cell_type": "code",
      "source": [
        "(x_train, y_train), (x_test, y_test) = cifar10.load_data()"
      ],
      "metadata": {
        "id": "_MNAojl4Viuz",
        "colab": {
          "base_uri": "https://localhost:8080/"
        },
        "outputId": "a42f7ee4-dfc2-4b72-8463-a4031e6b37a3"
      },
      "execution_count": null,
      "outputs": [
        {
          "output_type": "stream",
          "name": "stdout",
          "text": [
            "Downloading data from https://www.cs.toronto.edu/~kriz/cifar-10-python.tar.gz\n",
            "170498071/170498071 [==============================] - 2s 0us/step\n"
          ]
        }
      ]
    },
    {
      "cell_type": "code",
      "source": [
        "images = np.zeros((1000, 3072))\n",
        "labels = np.zeros((1000,))\n",
        "\n",
        "for i in range(10):\n",
        "    class_num = np.where(y_train == i)[0]\n",
        "    np.random.shuffle(class_num)\n",
        "    selected_num = class_num[:100]\n",
        "    images[i*100:(i+1)*100] = x_train[selected_num].reshape(100, -1)\n",
        "    labels[i*100:(i+1)*100] = i"
      ],
      "metadata": {
        "id": "3s6OPV-rif6v"
      },
      "execution_count": null,
      "outputs": []
    },
    {
      "cell_type": "code",
      "source": [
        "images.shape"
      ],
      "metadata": {
        "colab": {
          "base_uri": "https://localhost:8080/"
        },
        "id": "b-P5rr-IgQTv",
        "outputId": "3ecc7824-114d-46c4-cdfb-da562561aa63"
      },
      "execution_count": null,
      "outputs": [
        {
          "output_type": "execute_result",
          "data": {
            "text/plain": [
              "(1000, 3072)"
            ]
          },
          "metadata": {},
          "execution_count": 21
        }
      ]
    },
    {
      "cell_type": "code",
      "source": [
        "labels.shape"
      ],
      "metadata": {
        "colab": {
          "base_uri": "https://localhost:8080/"
        },
        "id": "j43STtO5gUPd",
        "outputId": "40b8ea03-f94b-40f4-a5af-1d1870641463"
      },
      "execution_count": null,
      "outputs": [
        {
          "output_type": "execute_result",
          "data": {
            "text/plain": [
              "(1000,)"
            ]
          },
          "metadata": {},
          "execution_count": 22
        }
      ]
    },
    {
      "cell_type": "code",
      "source": [
        "def relu(self, x):\n",
        "  y = np.max(0, self.x)\n",
        "  return y"
      ],
      "metadata": {
        "id": "9BmW6-m0YO7L"
      },
      "execution_count": null,
      "outputs": []
    },
    {
      "cell_type": "code",
      "source": [
        "def sigmoid(self, x):\n",
        "  y = 1 / (1 + math.exp(-(self.x)))\n",
        "  return y"
      ],
      "metadata": {
        "id": "TMnRaLW5Yihh"
      },
      "execution_count": null,
      "outputs": []
    },
    {
      "cell_type": "code",
      "source": [
        "def tanh(self, x):\n",
        "  y = math.sinh(self.x) / math.cosh(self.x)\n",
        "  return y"
      ],
      "metadata": {
        "id": "6Im3R3rxZM_U"
      },
      "execution_count": null,
      "outputs": []
    },
    {
      "cell_type": "code",
      "source": [
        "model = tf.keras.models.Sequential([\n",
        "    tf.keras.layers.Flatten(input_shape = (3072,)),\n",
        "    tf.keras.layers.Dense(64, activation = 'relu'),\n",
        "    tf.keras.layers.Dense(64, activation = 'relu'),\n",
        "    tf.keras.layers.Dense(10, activation = 'softmax')\n",
        "])\n",
        "\n",
        "model.compile(optimizer='adam',\n",
        "              loss='sparse_categorical_crossentropy',\n",
        "              metrics=['accuracy'])"
      ],
      "metadata": {
        "id": "XwtnAHjkZycu"
      },
      "execution_count": null,
      "outputs": []
    },
    {
      "cell_type": "code",
      "source": [
        "model.fit(images, labels, epochs=5)\n",
        "test_loss, test_acc = model.evaluate(images, labels)\n",
        "print('Test accuracy:', test_acc)"
      ],
      "metadata": {
        "colab": {
          "base_uri": "https://localhost:8080/"
        },
        "id": "OwYjqMONnpEy",
        "outputId": "aa0c8715-3eef-4d49-8ff7-cd4b0dd8c44b"
      },
      "execution_count": null,
      "outputs": [
        {
          "output_type": "stream",
          "name": "stdout",
          "text": [
            "Epoch 1/5\n",
            "32/32 [==============================] - 0s 9ms/step - loss: 5.6631 - accuracy: 0.2310\n",
            "Epoch 2/5\n",
            "32/32 [==============================] - 0s 10ms/step - loss: 4.5616 - accuracy: 0.2590\n",
            "Epoch 3/5\n",
            "32/32 [==============================] - 0s 11ms/step - loss: 4.0699 - accuracy: 0.2560\n",
            "Epoch 4/5\n",
            "32/32 [==============================] - 0s 8ms/step - loss: 3.6884 - accuracy: 0.2940\n",
            "Epoch 5/5\n",
            "32/32 [==============================] - 0s 5ms/step - loss: 5.3518 - accuracy: 0.2470\n",
            "32/32 [==============================] - 0s 3ms/step - loss: 8.9620 - accuracy: 0.1490\n",
            "Test accuracy: 0.14900000393390656\n"
          ]
        }
      ]
    },
    {
      "cell_type": "code",
      "source": [
        "model2 = tf.keras.models.Sequential([\n",
        "    tf.keras.layers.Flatten(input_shape = (3072,)),\n",
        "    tf.keras.layers.Dense(128, activation = 'relu'),\n",
        "    tf.keras.layers.Dense(64, activation = 'tanh'),\n",
        "    tf.keras.layers.Dense(10, activation = 'softmax')\n",
        "])\n",
        "\n",
        "model2.compile(optimizer='adam',\n",
        "              loss='sparse_categorical_crossentropy',\n",
        "              metrics=['accuracy'])"
      ],
      "metadata": {
        "id": "EB1GUz1eorU8"
      },
      "execution_count": null,
      "outputs": []
    },
    {
      "cell_type": "code",
      "source": [
        "model2.fit(images, labels, epochs=5)\n",
        "test_loss, test_acc = model2.evaluate(images, labels)\n",
        "print('Test accuracy:', test_acc)"
      ],
      "metadata": {
        "colab": {
          "base_uri": "https://localhost:8080/"
        },
        "id": "O-Cbhvq6oy20",
        "outputId": "3deb3ce1-f503-434d-8818-b5b30d45c94d"
      },
      "execution_count": null,
      "outputs": [
        {
          "output_type": "stream",
          "name": "stdout",
          "text": [
            "Epoch 1/5\n",
            "32/32 [==============================] - 1s 11ms/step - loss: 2.7561 - accuracy: 0.1020\n",
            "Epoch 2/5\n",
            "32/32 [==============================] - 0s 11ms/step - loss: 2.3553 - accuracy: 0.0910\n",
            "Epoch 3/5\n",
            "32/32 [==============================] - 0s 8ms/step - loss: 2.3419 - accuracy: 0.1010\n",
            "Epoch 4/5\n",
            "32/32 [==============================] - 0s 6ms/step - loss: 2.3712 - accuracy: 0.0950\n",
            "Epoch 5/5\n",
            "32/32 [==============================] - 0s 7ms/step - loss: 2.3208 - accuracy: 0.0890\n",
            "32/32 [==============================] - 0s 2ms/step - loss: 2.3055 - accuracy: 0.0990\n",
            "Test accuracy: 0.0989999994635582\n"
          ]
        }
      ]
    },
    {
      "cell_type": "code",
      "source": [
        "model3 = tf.keras.models.Sequential([\n",
        "    tf.keras.layers.Flatten(input_shape = (3072,)),\n",
        "    tf.keras.layers.Dense(128, activation = 'relu'),\n",
        "    tf.keras.layers.Dense(128, activation = 'sigmoid'),\n",
        "    tf.keras.layers.Dense(10, activation = 'softmax')\n",
        "])\n",
        "\n",
        "model3.compile(optimizer='adam',\n",
        "              loss='sparse_categorical_crossentropy',\n",
        "              metrics=['accuracy'])\n",
        "model3.fit(images, labels, epochs=5)\n",
        "test_loss, test_acc = model3.evaluate(images, labels)\n",
        "print('Test accuracy:', test_acc)"
      ],
      "metadata": {
        "colab": {
          "base_uri": "https://localhost:8080/"
        },
        "id": "B1ZgzYmxo4yC",
        "outputId": "e4dfd363-4c8e-421d-fa16-8947e4bd18ea"
      },
      "execution_count": null,
      "outputs": [
        {
          "output_type": "stream",
          "name": "stdout",
          "text": [
            "Epoch 1/5\n",
            "32/32 [==============================] - 1s 12ms/step - loss: 2.3755 - accuracy: 0.0860\n",
            "Epoch 2/5\n",
            "32/32 [==============================] - 0s 7ms/step - loss: 2.3122 - accuracy: 0.0890\n",
            "Epoch 3/5\n",
            "32/32 [==============================] - 0s 7ms/step - loss: 2.3109 - accuracy: 0.0750\n",
            "Epoch 4/5\n",
            "32/32 [==============================] - 0s 7ms/step - loss: 2.3133 - accuracy: 0.0840\n",
            "Epoch 5/5\n",
            "32/32 [==============================] - 0s 6ms/step - loss: 2.3129 - accuracy: 0.0800\n",
            "32/32 [==============================] - 0s 2ms/step - loss: 2.3042 - accuracy: 0.1010\n",
            "Test accuracy: 0.10100000351667404\n"
          ]
        }
      ]
    },
    {
      "cell_type": "code",
      "source": [
        "model3 = tf.keras.models.Sequential([\n",
        "    tf.keras.layers.Flatten(input_shape = (3072,)),\n",
        "    tf.keras.layers.Dense(1024, activation = 'relu'),\n",
        "    tf.keras.layers.Dense(256, activation = 'relu'),\n",
        "    tf.keras.layers.Dense(10, activation = 'softmax')\n",
        "])\n",
        "\n",
        "model3.compile(optimizer='adam',\n",
        "              loss='sparse_categorical_crossentropy',\n",
        "              metrics=['accuracy'])\n",
        "model3.fit(images, labels, epochs=10)\n",
        "test_loss, test_acc = model3.evaluate(images, labels)\n",
        "print('Test accuracy:', test_acc)"
      ],
      "metadata": {
        "colab": {
          "base_uri": "https://localhost:8080/"
        },
        "id": "E1RFsBjSyVk7",
        "outputId": "0c9d1f30-21ec-4d56-9087-8f859b7e280f"
      },
      "execution_count": null,
      "outputs": [
        {
          "output_type": "stream",
          "name": "stdout",
          "text": [
            "Epoch 1/10\n",
            "32/32 [==============================] - 4s 89ms/step - loss: 643.2610 - accuracy: 0.1230\n",
            "Epoch 2/10\n",
            "32/32 [==============================] - 2s 53ms/step - loss: 110.9409 - accuracy: 0.1490\n",
            "Epoch 3/10\n",
            "32/32 [==============================] - 1s 43ms/step - loss: 35.9933 - accuracy: 0.2010\n",
            "Epoch 4/10\n",
            "32/32 [==============================] - 1s 45ms/step - loss: 30.4644 - accuracy: 0.2040\n",
            "Epoch 5/10\n",
            "32/32 [==============================] - 2s 49ms/step - loss: 34.6580 - accuracy: 0.2400\n",
            "Epoch 6/10\n",
            "32/32 [==============================] - 1s 39ms/step - loss: 28.5665 - accuracy: 0.2580\n",
            "Epoch 7/10\n",
            "32/32 [==============================] - 1s 40ms/step - loss: 26.4552 - accuracy: 0.2460\n",
            "Epoch 8/10\n",
            "32/32 [==============================] - 2s 64ms/step - loss: 26.9141 - accuracy: 0.2580\n",
            "Epoch 9/10\n",
            "32/32 [==============================] - 2s 62ms/step - loss: 31.2822 - accuracy: 0.2550\n",
            "Epoch 10/10\n",
            "32/32 [==============================] - 2s 52ms/step - loss: 10.9041 - accuracy: 0.3110\n",
            "32/32 [==============================] - 0s 8ms/step - loss: 8.9589 - accuracy: 0.3730\n",
            "Test accuracy: 0.37299999594688416\n"
          ]
        }
      ]
    },
    {
      "cell_type": "code",
      "source": [
        "model4 = tf.keras.models.Sequential([\n",
        "    tf.keras.layers.Flatten(input_shape = (3072,)),\n",
        "    tf.keras.layers.Dense(1024, activation = 'relu'),\n",
        "    tf.keras.layers.Dense(256, activation = 'tanh'),\n",
        "    tf.keras.layers.Dense(10, activation = 'softmax')\n",
        "])\n",
        "\n",
        "model4.compile(optimizer='adam',\n",
        "              loss='sparse_categorical_crossentropy',\n",
        "              metrics=['accuracy'])\n",
        "model4.fit(images, labels, epochs=10)\n",
        "test_loss, test_acc = model4.evaluate(images, labels)\n",
        "print('Test accuracy:', test_acc)"
      ],
      "metadata": {
        "colab": {
          "base_uri": "https://localhost:8080/"
        },
        "id": "C6tVICihzNAl",
        "outputId": "2702b716-c735-4a0d-f6d2-873e1d13d6e2"
      },
      "execution_count": null,
      "outputs": [
        {
          "output_type": "stream",
          "name": "stdout",
          "text": [
            "Epoch 1/10\n",
            "32/32 [==============================] - 2s 49ms/step - loss: 2.5408 - accuracy: 0.0990\n",
            "Epoch 2/10\n",
            "32/32 [==============================] - 2s 74ms/step - loss: 2.3580 - accuracy: 0.0910\n",
            "Epoch 3/10\n",
            "32/32 [==============================] - 3s 99ms/step - loss: 2.3335 - accuracy: 0.1040\n",
            "Epoch 4/10\n",
            "32/32 [==============================] - 3s 82ms/step - loss: 2.3251 - accuracy: 0.0990\n",
            "Epoch 5/10\n",
            "32/32 [==============================] - 2s 58ms/step - loss: 2.3313 - accuracy: 0.0970\n",
            "Epoch 6/10\n",
            "32/32 [==============================] - 2s 47ms/step - loss: 2.3275 - accuracy: 0.0920\n",
            "Epoch 7/10\n",
            "32/32 [==============================] - 2s 65ms/step - loss: 2.3483 - accuracy: 0.0970\n",
            "Epoch 8/10\n",
            "32/32 [==============================] - 2s 54ms/step - loss: 2.3372 - accuracy: 0.0910\n",
            "Epoch 9/10\n",
            "32/32 [==============================] - 2s 72ms/step - loss: 2.3505 - accuracy: 0.0930\n",
            "Epoch 10/10\n",
            "32/32 [==============================] - 3s 85ms/step - loss: 2.3379 - accuracy: 0.0990\n",
            "32/32 [==============================] - 1s 14ms/step - loss: 2.3278 - accuracy: 0.1000\n",
            "Test accuracy: 0.10000000149011612\n"
          ]
        }
      ]
    },
    {
      "cell_type": "code",
      "source": [
        "model5 = tf.keras.models.Sequential([\n",
        "    tf.keras.layers.Flatten(input_shape = (3072,)),\n",
        "    tf.keras.layers.Dense(1024, activation = 'tanh'),\n",
        "    tf.keras.layers.Dense(256, activation = 'tanh'),\n",
        "    tf.keras.layers.Dense(10, activation = 'softmax')\n",
        "])\n",
        "\n",
        "model5.compile(optimizer='adam',\n",
        "              loss='sparse_categorical_crossentropy',\n",
        "              metrics=['accuracy'])\n",
        "model5.fit(images, labels, epochs=10)\n",
        "test_loss, test_acc = model5.evaluate(images, labels)\n",
        "print('Test accuracy:', test_acc)"
      ],
      "metadata": {
        "colab": {
          "base_uri": "https://localhost:8080/"
        },
        "id": "5ULAuuu0zknz",
        "outputId": "d5b4e152-c8d7-425a-9277-49d68c3b42c0"
      },
      "execution_count": null,
      "outputs": [
        {
          "output_type": "stream",
          "name": "stdout",
          "text": [
            "Epoch 1/10\n",
            "32/32 [==============================] - 2s 46ms/step - loss: 2.5430 - accuracy: 0.1080\n",
            "Epoch 2/10\n",
            "32/32 [==============================] - 2s 77ms/step - loss: 2.3523 - accuracy: 0.0930\n",
            "Epoch 3/10\n",
            "32/32 [==============================] - 2s 58ms/step - loss: 2.3311 - accuracy: 0.0830\n",
            "Epoch 4/10\n",
            "32/32 [==============================] - 2s 68ms/step - loss: 2.3514 - accuracy: 0.0870\n",
            "Epoch 5/10\n",
            "32/32 [==============================] - 2s 52ms/step - loss: 2.3315 - accuracy: 0.1030\n",
            "Epoch 6/10\n",
            "32/32 [==============================] - 2s 49ms/step - loss: 2.3394 - accuracy: 0.0920\n",
            "Epoch 7/10\n",
            "32/32 [==============================] - 2s 49ms/step - loss: 2.3359 - accuracy: 0.1000\n",
            "Epoch 8/10\n",
            "32/32 [==============================] - 2s 57ms/step - loss: 2.3348 - accuracy: 0.0890\n",
            "Epoch 9/10\n",
            "32/32 [==============================] - 2s 55ms/step - loss: 2.3363 - accuracy: 0.0980\n",
            "Epoch 10/10\n",
            "32/32 [==============================] - 3s 80ms/step - loss: 2.3539 - accuracy: 0.0900\n",
            "32/32 [==============================] - 0s 9ms/step - loss: 2.3201 - accuracy: 0.1000\n",
            "Test accuracy: 0.10000000149011612\n"
          ]
        }
      ]
    },
    {
      "cell_type": "code",
      "source": [
        "model6 = tf.keras.models.Sequential([\n",
        "    tf.keras.layers.Flatten(input_shape = (3072,)),\n",
        "    tf.keras.layers.Dense(1024, activation = 'sigmoid'),\n",
        "    tf.keras.layers.Dense(256, activation = 'sigmoid'),\n",
        "    tf.keras.layers.Dense(10, activation = 'softmax')\n",
        "])\n",
        "\n",
        "model6.compile(optimizer='adam',\n",
        "              loss='sparse_categorical_crossentropy',\n",
        "              metrics=['accuracy'])\n",
        "model6.fit(images, labels, epochs=10)\n",
        "test_loss, test_acc = model6.evaluate(images, labels)\n",
        "print('Test accuracy:', test_acc)"
      ],
      "metadata": {
        "colab": {
          "base_uri": "https://localhost:8080/"
        },
        "id": "3UXL7IFdz6Ss",
        "outputId": "53bc411d-6a00-4429-c992-025b73f68031"
      },
      "execution_count": null,
      "outputs": [
        {
          "output_type": "stream",
          "name": "stdout",
          "text": [
            "Epoch 1/10\n",
            "32/32 [==============================] - 2s 44ms/step - loss: 2.4031 - accuracy: 0.1020\n",
            "Epoch 2/10\n",
            "32/32 [==============================] - 2s 53ms/step - loss: 2.3517 - accuracy: 0.0900\n",
            "Epoch 3/10\n",
            "32/32 [==============================] - 1s 43ms/step - loss: 2.3443 - accuracy: 0.1170\n",
            "Epoch 4/10\n",
            "32/32 [==============================] - 2s 51ms/step - loss: 2.3335 - accuracy: 0.0880\n",
            "Epoch 5/10\n",
            "32/32 [==============================] - 1s 46ms/step - loss: 2.3312 - accuracy: 0.1010\n",
            "Epoch 6/10\n",
            "32/32 [==============================] - 1s 46ms/step - loss: 2.3219 - accuracy: 0.0900\n",
            "Epoch 7/10\n",
            "32/32 [==============================] - 2s 62ms/step - loss: 2.3226 - accuracy: 0.0920\n",
            "Epoch 8/10\n",
            "32/32 [==============================] - 2s 65ms/step - loss: 2.3226 - accuracy: 0.0810\n",
            "Epoch 9/10\n",
            "32/32 [==============================] - 2s 58ms/step - loss: 2.3244 - accuracy: 0.1000\n",
            "Epoch 10/10\n",
            "32/32 [==============================] - 2s 47ms/step - loss: 2.3226 - accuracy: 0.0870\n",
            "32/32 [==============================] - 0s 8ms/step - loss: 2.3116 - accuracy: 0.1000\n",
            "Test accuracy: 0.10000000149011612\n"
          ]
        }
      ]
    }
  ]
}